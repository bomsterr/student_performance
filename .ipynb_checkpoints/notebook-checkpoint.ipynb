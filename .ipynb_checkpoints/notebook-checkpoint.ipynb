{
 "cells": [
  {
   "cell_type": "markdown",
   "id": "e146668c-45ca-4dfd-9480-a3cbe748c010",
   "metadata": {},
   "source": [
    "# Introduction\n",
    "It is pivotal to encourage and support worldwide education, especially those of younger generations. There are some challenges that play an subtle but influential role in affecting children's ability to get a good education. Good education can be captured differently but in this analysis, the test scores (math, reading, and writing) will be the quantitative values which will measure children's academic performance. Some factors that influence children's ability to learn in schools could stem from variety of reasons ranging from parents' education level, the family's financial status, ethnicity, and so forth. The purpose of this jupyter notebook is to predict features that can predict what factors could influence students' academic performances.\n",
    "\n",
    "# Information about the data\n",
    "This dataset is fictional. This contains each student's performance in Math, Reading, and Writing score. The dataset is fictional and contains the variety of personal, social, and economic factors that may influence the test scores. "
   ]
  },
  {
   "cell_type": "markdown",
   "id": "0bd84afd-5e1b-454f-ae6c-7196e38e9875",
   "metadata": {},
   "source": [
    "# Preprocessing the data\n",
    "- check if there are any nulls within the columns"
   ]
  },
  {
   "cell_type": "code",
   "execution_count": 157,
   "id": "95b5f4ba-f5b6-44dd-aa31-16f0725782f0",
   "metadata": {},
   "outputs": [
    {
     "data": {
      "text/html": [
       "<div>\n",
       "<style scoped>\n",
       "    .dataframe tbody tr th:only-of-type {\n",
       "        vertical-align: middle;\n",
       "    }\n",
       "\n",
       "    .dataframe tbody tr th {\n",
       "        vertical-align: top;\n",
       "    }\n",
       "\n",
       "    .dataframe thead th {\n",
       "        text-align: right;\n",
       "    }\n",
       "</style>\n",
       "<table border=\"1\" class=\"dataframe\">\n",
       "  <thead>\n",
       "    <tr style=\"text-align: right;\">\n",
       "      <th></th>\n",
       "      <th>gender</th>\n",
       "      <th>race</th>\n",
       "      <th>parent_education</th>\n",
       "      <th>lunch</th>\n",
       "      <th>test_prep_course</th>\n",
       "      <th>math_score</th>\n",
       "      <th>reading_score</th>\n",
       "      <th>writing_score</th>\n",
       "    </tr>\n",
       "  </thead>\n",
       "  <tbody>\n",
       "    <tr>\n",
       "      <th>0</th>\n",
       "      <td>female</td>\n",
       "      <td>group B</td>\n",
       "      <td>bachelor's degree</td>\n",
       "      <td>standard</td>\n",
       "      <td>none</td>\n",
       "      <td>72</td>\n",
       "      <td>72</td>\n",
       "      <td>74</td>\n",
       "    </tr>\n",
       "    <tr>\n",
       "      <th>1</th>\n",
       "      <td>female</td>\n",
       "      <td>group C</td>\n",
       "      <td>some college</td>\n",
       "      <td>standard</td>\n",
       "      <td>completed</td>\n",
       "      <td>69</td>\n",
       "      <td>90</td>\n",
       "      <td>88</td>\n",
       "    </tr>\n",
       "    <tr>\n",
       "      <th>2</th>\n",
       "      <td>female</td>\n",
       "      <td>group B</td>\n",
       "      <td>master's degree</td>\n",
       "      <td>standard</td>\n",
       "      <td>none</td>\n",
       "      <td>90</td>\n",
       "      <td>95</td>\n",
       "      <td>93</td>\n",
       "    </tr>\n",
       "    <tr>\n",
       "      <th>3</th>\n",
       "      <td>male</td>\n",
       "      <td>group A</td>\n",
       "      <td>associate's degree</td>\n",
       "      <td>free/reduced</td>\n",
       "      <td>none</td>\n",
       "      <td>47</td>\n",
       "      <td>57</td>\n",
       "      <td>44</td>\n",
       "    </tr>\n",
       "    <tr>\n",
       "      <th>4</th>\n",
       "      <td>male</td>\n",
       "      <td>group C</td>\n",
       "      <td>some college</td>\n",
       "      <td>standard</td>\n",
       "      <td>none</td>\n",
       "      <td>76</td>\n",
       "      <td>78</td>\n",
       "      <td>75</td>\n",
       "    </tr>\n",
       "    <tr>\n",
       "      <th>...</th>\n",
       "      <td>...</td>\n",
       "      <td>...</td>\n",
       "      <td>...</td>\n",
       "      <td>...</td>\n",
       "      <td>...</td>\n",
       "      <td>...</td>\n",
       "      <td>...</td>\n",
       "      <td>...</td>\n",
       "    </tr>\n",
       "    <tr>\n",
       "      <th>995</th>\n",
       "      <td>female</td>\n",
       "      <td>group E</td>\n",
       "      <td>master's degree</td>\n",
       "      <td>standard</td>\n",
       "      <td>completed</td>\n",
       "      <td>88</td>\n",
       "      <td>99</td>\n",
       "      <td>95</td>\n",
       "    </tr>\n",
       "    <tr>\n",
       "      <th>996</th>\n",
       "      <td>male</td>\n",
       "      <td>group C</td>\n",
       "      <td>high school</td>\n",
       "      <td>free/reduced</td>\n",
       "      <td>none</td>\n",
       "      <td>62</td>\n",
       "      <td>55</td>\n",
       "      <td>55</td>\n",
       "    </tr>\n",
       "    <tr>\n",
       "      <th>997</th>\n",
       "      <td>female</td>\n",
       "      <td>group C</td>\n",
       "      <td>high school</td>\n",
       "      <td>free/reduced</td>\n",
       "      <td>completed</td>\n",
       "      <td>59</td>\n",
       "      <td>71</td>\n",
       "      <td>65</td>\n",
       "    </tr>\n",
       "    <tr>\n",
       "      <th>998</th>\n",
       "      <td>female</td>\n",
       "      <td>group D</td>\n",
       "      <td>some college</td>\n",
       "      <td>standard</td>\n",
       "      <td>completed</td>\n",
       "      <td>68</td>\n",
       "      <td>78</td>\n",
       "      <td>77</td>\n",
       "    </tr>\n",
       "    <tr>\n",
       "      <th>999</th>\n",
       "      <td>female</td>\n",
       "      <td>group D</td>\n",
       "      <td>some college</td>\n",
       "      <td>free/reduced</td>\n",
       "      <td>none</td>\n",
       "      <td>77</td>\n",
       "      <td>86</td>\n",
       "      <td>86</td>\n",
       "    </tr>\n",
       "  </tbody>\n",
       "</table>\n",
       "<p>1000 rows × 8 columns</p>\n",
       "</div>"
      ],
      "text/plain": [
       "     gender     race    parent_education         lunch test_prep_course  \\\n",
       "0    female  group B   bachelor's degree      standard             none   \n",
       "1    female  group C        some college      standard        completed   \n",
       "2    female  group B     master's degree      standard             none   \n",
       "3      male  group A  associate's degree  free/reduced             none   \n",
       "4      male  group C        some college      standard             none   \n",
       "..      ...      ...                 ...           ...              ...   \n",
       "995  female  group E     master's degree      standard        completed   \n",
       "996    male  group C         high school  free/reduced             none   \n",
       "997  female  group C         high school  free/reduced        completed   \n",
       "998  female  group D        some college      standard        completed   \n",
       "999  female  group D        some college  free/reduced             none   \n",
       "\n",
       "     math_score  reading_score  writing_score  \n",
       "0            72             72             74  \n",
       "1            69             90             88  \n",
       "2            90             95             93  \n",
       "3            47             57             44  \n",
       "4            76             78             75  \n",
       "..          ...            ...            ...  \n",
       "995          88             99             95  \n",
       "996          62             55             55  \n",
       "997          59             71             65  \n",
       "998          68             78             77  \n",
       "999          77             86             86  \n",
       "\n",
       "[1000 rows x 8 columns]"
      ]
     },
     "execution_count": 157,
     "metadata": {},
     "output_type": "execute_result"
    }
   ],
   "source": [
    "## any nulls?\n",
    "csv = pd.read_csv('data/StudentsPerformance.csv')\n",
    "csv.isnull().sum()\n",
    "\n",
    "## rename some columns\n",
    "csv.rename(columns={'race/ethnicity':'race',\n",
    "                    'parental level of education': 'parent_education',\n",
    "                    'test preparation course': 'test_prep_course',\n",
    "                    'math score':'math_score',\n",
    "                    'reading score':'reading_score',\n",
    "                    'writing score':'writing_score'},\n",
    "           inplace = True)"
   ]
  },
  {
   "cell_type": "markdown",
   "id": "8a90d391-5965-44fb-94d1-86f31c71390a",
   "metadata": {},
   "source": [
    "# Explore the data\n",
    "- examine the distribution of the different columns and their average values\n",
    "- look for any correlations between some of the test scores\n",
    "    - for example, writing and reading seem to use similar kinds of qualtitative reasoning"
   ]
  },
  {
   "cell_type": "code",
   "execution_count": 79,
   "id": "42d037a2-6b5c-40e9-8e68-df621382f72c",
   "metadata": {},
   "outputs": [],
   "source": [
    "## import necessary packages\n",
    "import pandas as pd\n",
    "import matplotlib.pyplot as plt\n",
    "import seaborn as sns\n",
    "from sklearn.pipeline import Pipeline\n",
    "from sklearn.preprocessing import StandardScaler\n",
    "from sklearn.model_selection import train_test_split"
   ]
  },
  {
   "cell_type": "code",
   "execution_count": 9,
   "id": "07fe1fad-026a-4545-8148-32a18bc27c25",
   "metadata": {},
   "outputs": [
    {
     "data": {
      "text/html": [
       "<div>\n",
       "<style scoped>\n",
       "    .dataframe tbody tr th:only-of-type {\n",
       "        vertical-align: middle;\n",
       "    }\n",
       "\n",
       "    .dataframe tbody tr th {\n",
       "        vertical-align: top;\n",
       "    }\n",
       "\n",
       "    .dataframe thead th {\n",
       "        text-align: right;\n",
       "    }\n",
       "</style>\n",
       "<table border=\"1\" class=\"dataframe\">\n",
       "  <thead>\n",
       "    <tr style=\"text-align: right;\">\n",
       "      <th></th>\n",
       "      <th>math score</th>\n",
       "      <th>reading score</th>\n",
       "      <th>writing score</th>\n",
       "    </tr>\n",
       "  </thead>\n",
       "  <tbody>\n",
       "    <tr>\n",
       "      <th>count</th>\n",
       "      <td>1000.00000</td>\n",
       "      <td>1000.000000</td>\n",
       "      <td>1000.000000</td>\n",
       "    </tr>\n",
       "    <tr>\n",
       "      <th>mean</th>\n",
       "      <td>66.08900</td>\n",
       "      <td>69.169000</td>\n",
       "      <td>68.054000</td>\n",
       "    </tr>\n",
       "    <tr>\n",
       "      <th>std</th>\n",
       "      <td>15.16308</td>\n",
       "      <td>14.600192</td>\n",
       "      <td>15.195657</td>\n",
       "    </tr>\n",
       "    <tr>\n",
       "      <th>min</th>\n",
       "      <td>0.00000</td>\n",
       "      <td>17.000000</td>\n",
       "      <td>10.000000</td>\n",
       "    </tr>\n",
       "    <tr>\n",
       "      <th>25%</th>\n",
       "      <td>57.00000</td>\n",
       "      <td>59.000000</td>\n",
       "      <td>57.750000</td>\n",
       "    </tr>\n",
       "    <tr>\n",
       "      <th>50%</th>\n",
       "      <td>66.00000</td>\n",
       "      <td>70.000000</td>\n",
       "      <td>69.000000</td>\n",
       "    </tr>\n",
       "    <tr>\n",
       "      <th>75%</th>\n",
       "      <td>77.00000</td>\n",
       "      <td>79.000000</td>\n",
       "      <td>79.000000</td>\n",
       "    </tr>\n",
       "    <tr>\n",
       "      <th>max</th>\n",
       "      <td>100.00000</td>\n",
       "      <td>100.000000</td>\n",
       "      <td>100.000000</td>\n",
       "    </tr>\n",
       "  </tbody>\n",
       "</table>\n",
       "</div>"
      ],
      "text/plain": [
       "       math score  reading score  writing score\n",
       "count  1000.00000    1000.000000    1000.000000\n",
       "mean     66.08900      69.169000      68.054000\n",
       "std      15.16308      14.600192      15.195657\n",
       "min       0.00000      17.000000      10.000000\n",
       "25%      57.00000      59.000000      57.750000\n",
       "50%      66.00000      70.000000      69.000000\n",
       "75%      77.00000      79.000000      79.000000\n",
       "max     100.00000     100.000000     100.000000"
      ]
     },
     "execution_count": 9,
     "metadata": {},
     "output_type": "execute_result"
    }
   ],
   "source": [
    "## look at the distribution of the dataset\n",
    "csv.describe()"
   ]
  },
  {
   "cell_type": "code",
   "execution_count": 10,
   "id": "08d4a7bc-ab39-4d7f-8442-b122ea5b9a1f",
   "metadata": {},
   "outputs": [
    {
     "data": {
      "text/plain": [
       "<AxesSubplot:>"
      ]
     },
     "execution_count": 10,
     "metadata": {},
     "output_type": "execute_result"
    },
    {
     "data": {
      "image/png": "[encoded data removed]",
      "text/plain": [
       "<Figure size 432x288 with 2 Axes>"
      ]
     },
     "metadata": {
      "needs_background": "light"
     },
     "output_type": "display_data"
    }
   ],
   "source": [
    "## any relationship between some of the test scores?\n",
    "corr = csv.corr()\n",
    "sns.heatmap(corr, \n",
    "            xticklabels=corr.columns.values,\n",
    "            yticklabels=corr.columns.values)"
   ]
  },
  {
   "cell_type": "markdown",
   "id": "8498a6c4-55f1-4df2-ac5e-d67546c12fd6",
   "metadata": {},
   "source": [
    "# Simple EDA"
   ]
  },
  {
   "cell_type": "code",
   "execution_count": 26,
   "id": "baaeb20e-0324-4748-ad25-6e7674c4a213",
   "metadata": {},
   "outputs": [
    {
     "data": {
      "text/html": [
       "<div>\n",
       "<style scoped>\n",
       "    .dataframe tbody tr th:only-of-type {\n",
       "        vertical-align: middle;\n",
       "    }\n",
       "\n",
       "    .dataframe tbody tr th {\n",
       "        vertical-align: top;\n",
       "    }\n",
       "\n",
       "    .dataframe thead th {\n",
       "        text-align: right;\n",
       "    }\n",
       "</style>\n",
       "<table border=\"1\" class=\"dataframe\">\n",
       "  <thead>\n",
       "    <tr style=\"text-align: right;\">\n",
       "      <th></th>\n",
       "      <th>gender</th>\n",
       "      <th>race</th>\n",
       "      <th>parent_education</th>\n",
       "      <th>lunch</th>\n",
       "      <th>test_prep_course</th>\n",
       "      <th>math_score</th>\n",
       "      <th>reading_score</th>\n",
       "      <th>writing_score</th>\n",
       "    </tr>\n",
       "  </thead>\n",
       "  <tbody>\n",
       "    <tr>\n",
       "      <th>0</th>\n",
       "      <td>female</td>\n",
       "      <td>group B</td>\n",
       "      <td>bachelor's degree</td>\n",
       "      <td>standard</td>\n",
       "      <td>none</td>\n",
       "      <td>72</td>\n",
       "      <td>72</td>\n",
       "      <td>74</td>\n",
       "    </tr>\n",
       "    <tr>\n",
       "      <th>1</th>\n",
       "      <td>female</td>\n",
       "      <td>group C</td>\n",
       "      <td>some college</td>\n",
       "      <td>standard</td>\n",
       "      <td>completed</td>\n",
       "      <td>69</td>\n",
       "      <td>90</td>\n",
       "      <td>88</td>\n",
       "    </tr>\n",
       "    <tr>\n",
       "      <th>2</th>\n",
       "      <td>female</td>\n",
       "      <td>group B</td>\n",
       "      <td>master's degree</td>\n",
       "      <td>standard</td>\n",
       "      <td>none</td>\n",
       "      <td>90</td>\n",
       "      <td>95</td>\n",
       "      <td>93</td>\n",
       "    </tr>\n",
       "    <tr>\n",
       "      <th>3</th>\n",
       "      <td>male</td>\n",
       "      <td>group A</td>\n",
       "      <td>associate's degree</td>\n",
       "      <td>free/reduced</td>\n",
       "      <td>none</td>\n",
       "      <td>47</td>\n",
       "      <td>57</td>\n",
       "      <td>44</td>\n",
       "    </tr>\n",
       "    <tr>\n",
       "      <th>4</th>\n",
       "      <td>male</td>\n",
       "      <td>group C</td>\n",
       "      <td>some college</td>\n",
       "      <td>standard</td>\n",
       "      <td>none</td>\n",
       "      <td>76</td>\n",
       "      <td>78</td>\n",
       "      <td>75</td>\n",
       "    </tr>\n",
       "  </tbody>\n",
       "</table>\n",
       "</div>"
      ],
      "text/plain": [
       "   gender     race    parent_education         lunch test_prep_course  \\\n",
       "0  female  group B   bachelor's degree      standard             none   \n",
       "1  female  group C        some college      standard        completed   \n",
       "2  female  group B     master's degree      standard             none   \n",
       "3    male  group A  associate's degree  free/reduced             none   \n",
       "4    male  group C        some college      standard             none   \n",
       "\n",
       "   math_score  reading_score  writing_score  \n",
       "0          72             72             74  \n",
       "1          69             90             88  \n",
       "2          90             95             93  \n",
       "3          47             57             44  \n",
       "4          76             78             75  "
      ]
     },
     "execution_count": 26,
     "metadata": {},
     "output_type": "execute_result"
    }
   ],
   "source": [
    "csv.head()"
   ]
  },
  {
   "cell_type": "code",
   "execution_count": 23,
   "id": "c491d288-a3b7-4ea7-90f1-7a1cfa3a2481",
   "metadata": {},
   "outputs": [
    {
     "name": "stdout",
     "output_type": "stream",
     "text": [
      "female    518\n",
      "male      482\n",
      "Name: gender, dtype: int64\n"
     ]
    },
    {
     "data": {
      "image/png": "[encoded data removed]",
      "text/plain": [
       "<Figure size 432x288 with 1 Axes>"
      ]
     },
     "metadata": {},
     "output_type": "display_data"
    }
   ],
   "source": [
    "## Gender?\n",
    "genders = csv['gender'].value_counts()\n",
    "plt.figure()\n",
    "plt.pie(genders, labels=['Female', 'Male'], autopct='%1.0f%%')\n",
    "plt.show()"
   ]
  },
  {
   "cell_type": "markdown",
   "id": "c03c26c6-504c-4878-9cb2-fd0f314ff001",
   "metadata": {},
   "source": [
    "Relatively equal proportion of female and male students (52% Female, 48% Male)"
   ]
  },
  {
   "cell_type": "code",
   "execution_count": 45,
   "id": "f12c13e5-a9b5-4b00-bff9-ba0f22f78bd1",
   "metadata": {},
   "outputs": [
    {
     "data": {
      "image/png": "[encoded data removed]",
      "text/plain": [
       "<Figure size 432x288 with 1 Axes>"
      ]
     },
     "metadata": {},
     "output_type": "display_data"
    }
   ],
   "source": [
    "## test prep?\n",
    "prep = csv['test_prep_course'].value_counts()\n",
    "plt.figure()\n",
    "plt.pie(prep, labels=['No', 'Yes'], autopct='%1.0f%%')\n",
    "plt.show()"
   ]
  },
  {
   "cell_type": "markdown",
   "id": "ac3c7414-b85b-41b6-946d-829dd723672a",
   "metadata": {},
   "source": [
    "Higher proportion of students who did not complete test prep than did (64% did, 36% did not)."
   ]
  },
  {
   "cell_type": "code",
   "execution_count": 42,
   "id": "93dfeb9d-ead9-4215-9023-b7204046237f",
   "metadata": {},
   "outputs": [
    {
     "data": {
      "text/plain": [
       "<seaborn.axisgrid.FacetGrid at 0x7ff04136a2e0>"
      ]
     },
     "execution_count": 42,
     "metadata": {},
     "output_type": "execute_result"
    },
    {
     "data": {
      "image/png": "[encoded data removed]",
      "text/plain": [
       "<Figure size 1107.88x288 with 5 Axes>"
      ]
     },
     "metadata": {
      "needs_background": "light"
     },
     "output_type": "display_data"
    }
   ],
   "source": [
    "## break down parental education count by race and lunch price reduction\n",
    "sns.catplot(y='parent_education',\n",
    "              hue='lunch', \n",
    "              col='race',\n",
    "            kind='count',\n",
    "            height=4,\n",
    "            aspect=0.7,\n",
    "              data=csv)"
   ]
  },
  {
   "cell_type": "markdown",
   "id": "f0fede20-46fc-4690-bde0-6e082fae29fb",
   "metadata": {},
   "source": [
    "Group A seems to have similar count of standard and free/reduced lunches despite parents having good education degrees like associate's and master's. However, students of parents in group A with just bachelor's degree are not affected as much with requiring lunch reduction, suggesting that these socioeconomic and educational factors play out differently on needing government assistance. The different effect on lunch reduction depending on race and parental education suggests the different interplays different factors can have, highlighting the social term intersectionality described by Crenshaw."
   ]
  },
  {
   "cell_type": "code",
   "execution_count": 55,
   "id": "9830741a-1204-4a7b-a79b-760189f3a322",
   "metadata": {},
   "outputs": [
    {
     "data": {
      "text/plain": [
       "<AxesSubplot:xlabel='parent_education'>"
      ]
     },
     "execution_count": 55,
     "metadata": {},
     "output_type": "execute_result"
    },
    {
     "data": {
      "image/png": "[encoded data removed]",
      "text/plain": [
       "<Figure size 432x288 with 1 Axes>"
      ]
     },
     "metadata": {
      "needs_background": "light"
     },
     "output_type": "display_data"
    }
   ],
   "source": [
    "## parental education on students' test scores\n",
    "fig1 = csv.groupby('parent_education').agg({'math_score' : 'mean','reading_score' : 'mean','writing_score' : 'mean'})\n",
    "fig1.plot.bar()"
   ]
  },
  {
   "cell_type": "markdown",
   "id": "296afb9a-3d35-4fb8-b244-fe83a7f96048",
   "metadata": {},
   "source": [
    "In general, the students who had parents with high school educations seem to have overall lower test scores."
   ]
  },
  {
   "cell_type": "code",
   "execution_count": 59,
   "id": "952af51d-7663-401d-907a-4639b08f4a02",
   "metadata": {},
   "outputs": [
    {
     "data": {
      "text/plain": [
       "<AxesSubplot:xlabel='test_prep_course'>"
      ]
     },
     "execution_count": 59,
     "metadata": {},
     "output_type": "execute_result"
    },
    {
     "data": {
      "image/png": "[encoded data removed]",
      "text/plain": [
       "<Figure size 432x288 with 1 Axes>"
      ]
     },
     "metadata": {
      "needs_background": "light"
     },
     "output_type": "display_data"
    }
   ],
   "source": [
    "## test prep on students' test scores\n",
    "fig2 = csv.groupby('test_prep_course').agg({'math_score' : 'mean','reading_score' : 'mean','writing_score' : 'mean'})\n",
    "fig2.plot.bar()"
   ]
  },
  {
   "cell_type": "markdown",
   "id": "ea753766-fbb5-4603-917f-6e5b2b13f708",
   "metadata": {},
   "source": [
    "## Preprocessing for ML"
   ]
  },
  {
   "cell_type": "code",
   "execution_count": 77,
   "id": "fec128e7-e885-4952-88fb-85c6ae5abf53",
   "metadata": {},
   "outputs": [
    {
     "data": {
      "text/html": [
       "<div>\n",
       "<style scoped>\n",
       "    .dataframe tbody tr th:only-of-type {\n",
       "        vertical-align: middle;\n",
       "    }\n",
       "\n",
       "    .dataframe tbody tr th {\n",
       "        vertical-align: top;\n",
       "    }\n",
       "\n",
       "    .dataframe thead th {\n",
       "        text-align: right;\n",
       "    }\n",
       "</style>\n",
       "<table border=\"1\" class=\"dataframe\">\n",
       "  <thead>\n",
       "    <tr style=\"text-align: right;\">\n",
       "      <th></th>\n",
       "      <th>reading_score</th>\n",
       "      <th>writing_score</th>\n",
       "      <th>gender_male</th>\n",
       "      <th>race_group B</th>\n",
       "      <th>race_group C</th>\n",
       "      <th>race_group D</th>\n",
       "      <th>race_group E</th>\n",
       "      <th>parent_education_bachelor's degree</th>\n",
       "      <th>parent_education_high school</th>\n",
       "      <th>parent_education_master's degree</th>\n",
       "      <th>parent_education_some college</th>\n",
       "      <th>parent_education_some high school</th>\n",
       "      <th>lunch_standard</th>\n",
       "      <th>test_prep_course_none</th>\n",
       "    </tr>\n",
       "  </thead>\n",
       "  <tbody>\n",
       "    <tr>\n",
       "      <th>0</th>\n",
       "      <td>72</td>\n",
       "      <td>74</td>\n",
       "      <td>0</td>\n",
       "      <td>1</td>\n",
       "      <td>0</td>\n",
       "      <td>0</td>\n",
       "      <td>0</td>\n",
       "      <td>1</td>\n",
       "      <td>0</td>\n",
       "      <td>0</td>\n",
       "      <td>0</td>\n",
       "      <td>0</td>\n",
       "      <td>1</td>\n",
       "      <td>1</td>\n",
       "    </tr>\n",
       "    <tr>\n",
       "      <th>1</th>\n",
       "      <td>90</td>\n",
       "      <td>88</td>\n",
       "      <td>0</td>\n",
       "      <td>0</td>\n",
       "      <td>1</td>\n",
       "      <td>0</td>\n",
       "      <td>0</td>\n",
       "      <td>0</td>\n",
       "      <td>0</td>\n",
       "      <td>0</td>\n",
       "      <td>1</td>\n",
       "      <td>0</td>\n",
       "      <td>1</td>\n",
       "      <td>0</td>\n",
       "    </tr>\n",
       "    <tr>\n",
       "      <th>2</th>\n",
       "      <td>95</td>\n",
       "      <td>93</td>\n",
       "      <td>0</td>\n",
       "      <td>1</td>\n",
       "      <td>0</td>\n",
       "      <td>0</td>\n",
       "      <td>0</td>\n",
       "      <td>0</td>\n",
       "      <td>0</td>\n",
       "      <td>1</td>\n",
       "      <td>0</td>\n",
       "      <td>0</td>\n",
       "      <td>1</td>\n",
       "      <td>1</td>\n",
       "    </tr>\n",
       "    <tr>\n",
       "      <th>3</th>\n",
       "      <td>57</td>\n",
       "      <td>44</td>\n",
       "      <td>1</td>\n",
       "      <td>0</td>\n",
       "      <td>0</td>\n",
       "      <td>0</td>\n",
       "      <td>0</td>\n",
       "      <td>0</td>\n",
       "      <td>0</td>\n",
       "      <td>0</td>\n",
       "      <td>0</td>\n",
       "      <td>0</td>\n",
       "      <td>0</td>\n",
       "      <td>1</td>\n",
       "    </tr>\n",
       "    <tr>\n",
       "      <th>4</th>\n",
       "      <td>78</td>\n",
       "      <td>75</td>\n",
       "      <td>1</td>\n",
       "      <td>0</td>\n",
       "      <td>1</td>\n",
       "      <td>0</td>\n",
       "      <td>0</td>\n",
       "      <td>0</td>\n",
       "      <td>0</td>\n",
       "      <td>0</td>\n",
       "      <td>1</td>\n",
       "      <td>0</td>\n",
       "      <td>1</td>\n",
       "      <td>1</td>\n",
       "    </tr>\n",
       "  </tbody>\n",
       "</table>\n",
       "</div>"
      ],
      "text/plain": [
       "   reading_score  writing_score  gender_male  race_group B  race_group C  \\\n",
       "0             72             74            0             1             0   \n",
       "1             90             88            0             0             1   \n",
       "2             95             93            0             1             0   \n",
       "3             57             44            1             0             0   \n",
       "4             78             75            1             0             1   \n",
       "\n",
       "   race_group D  race_group E  parent_education_bachelor's degree  \\\n",
       "0             0             0                                   1   \n",
       "1             0             0                                   0   \n",
       "2             0             0                                   0   \n",
       "3             0             0                                   0   \n",
       "4             0             0                                   0   \n",
       "\n",
       "   parent_education_high school  parent_education_master's degree  \\\n",
       "0                             0                                 0   \n",
       "1                             0                                 0   \n",
       "2                             0                                 1   \n",
       "3                             0                                 0   \n",
       "4                             0                                 0   \n",
       "\n",
       "   parent_education_some college  parent_education_some high school  \\\n",
       "0                              0                                  0   \n",
       "1                              1                                  0   \n",
       "2                              0                                  0   \n",
       "3                              0                                  0   \n",
       "4                              1                                  0   \n",
       "\n",
       "   lunch_standard  test_prep_course_none  \n",
       "0               1                      1  \n",
       "1               1                      0  \n",
       "2               1                      1  \n",
       "3               0                      1  \n",
       "4               1                      1  "
      ]
     },
     "execution_count": 77,
     "metadata": {},
     "output_type": "execute_result"
    }
   ],
   "source": [
    "X=csv[['gender','race','parent_education','lunch','test_prep_course','reading_score','writing_score']]\n",
    "Y=csv['math_score']\n",
    "\n",
    "## dummy variables\n",
    "X = pd.get_dummies(data=X, drop_first = True)\n",
    "X.head()"
   ]
  },
  {
   "cell_type": "code",
   "execution_count": 153,
   "id": "d5f90966-2d68-435f-beee-83b0516224ca",
   "metadata": {},
   "outputs": [],
   "source": [
    "## model\n",
    "X_train, X_test, y_train, y_test = train_test_split(X, Y, test_size=0.2, random_state=101)"
   ]
  },
  {
   "cell_type": "markdown",
   "id": "b4b98562-3193-4805-88fb-425e71b8084d",
   "metadata": {},
   "source": [
    "## Ready to test out the different models!"
   ]
  },
  {
   "cell_type": "markdown",
   "id": "7fce6a1f-2f71-4229-873a-c7f87491bc4a",
   "metadata": {},
   "source": [
    "## 1. Random Forest"
   ]
  },
  {
   "cell_type": "code",
   "execution_count": 88,
   "id": "933d4d99-d3d9-4be7-bf66-33c0d36f8024",
   "metadata": {},
   "outputs": [
    {
     "data": {
      "text/plain": [
       "0.8200357061176737"
      ]
     },
     "execution_count": 88,
     "metadata": {},
     "output_type": "execute_result"
    }
   ],
   "source": [
    "from sklearn.ensemble import RandomForestRegressor\n",
    "forest= RandomForestRegressor(n_estimators=30, random_state=0)\n",
    "forest.fit(X_train, y_train)\n",
    "y_pred = forest.predict(X_test)\n",
    "forest.score(X_test, y_test) ## accuracy"
   ]
  },
  {
   "cell_type": "markdown",
   "id": "712abb28-b16e-4b29-becf-475d765452ad",
   "metadata": {},
   "source": [
    "## 2. Linear Regression"
   ]
  },
  {
   "cell_type": "code",
   "execution_count": 96,
   "id": "3b6ebdca-cfa0-42ff-8cb9-153cf4dce0f3",
   "metadata": {},
   "outputs": [
    {
     "data": {
      "text/plain": [
       "0.8539032390585746"
      ]
     },
     "execution_count": 96,
     "metadata": {},
     "output_type": "execute_result"
    }
   ],
   "source": [
    "from sklearn.linear_model import LinearRegression\n",
    "lm = LinearRegression()\n",
    "lm.fit(X_train,y_train)\n",
    "lm.score(X_test, y_test)"
   ]
  },
  {
   "cell_type": "code",
   "execution_count": 136,
   "id": "9f813a2f-053f-4ea5-b0d3-0cd30cc58f5d",
   "metadata": {},
   "outputs": [
    {
     "data": {
      "image/png": "[encoded data removed]",
      "text/plain": [
       "<Figure size 432x288 with 1 Axes>"
      ]
     },
     "metadata": {
      "needs_background": "light"
     },
     "output_type": "display_data"
    }
   ],
   "source": [
    "## feature importance\n",
    "importance = lm.coef_\n",
    "#for i,v in enumerate(importance):\n",
    "#    print('Feature: %0d, Score: %.5f' % (i,v))\n",
    "# plot feature importance\n",
    "\n",
    "plt.bar([x for x in range(len(importance))], importance)\n",
    "plt.bar([x for x in X_train.columns], importance)\n",
    "plt.title('Variable importance for linear regression')\n",
    "plt.xticks(rotation=90)\n",
    "\n",
    "plt.show()"
   ]
  },
  {
   "cell_type": "code",
   "execution_count": 145,
   "id": "c93dd78f-5c46-42b6-819e-06ab9c7b65ce",
   "metadata": {},
   "outputs": [
    {
     "name": "stdout",
     "output_type": "stream",
     "text": [
      "28.706552557380675\n"
     ]
    },
    {
     "name": "stderr",
     "output_type": "stream",
     "text": [
      "/usr/local/lib/python3.8/dist-packages/seaborn/_decorators.py:36: FutureWarning: Pass the following variables as keyword args: x, y. From version 0.12, the only valid positional argument will be `data`, and passing other arguments without an explicit keyword will result in an error or misinterpretation.\n",
      "  warnings.warn(\n"
     ]
    },
    {
     "data": {
      "text/plain": [
       "<AxesSubplot:xlabel='math_score'>"
      ]
     },
     "execution_count": 145,
     "metadata": {},
     "output_type": "execute_result"
    },
    {
     "data": {
      "image/png": "[encoded data removed]",
      "text/plain": [
       "<Figure size 432x288 with 1 Axes>"
      ]
     },
     "metadata": {
      "needs_background": "light"
     },
     "output_type": "display_data"
    }
   ],
   "source": [
    "## mean square error\n",
    "from sklearn.metrics import mean_squared_error\n",
    "predictions = lm.predict(X_test)\n",
    "print(mean_squared_error(y_test, predictions))\n",
    "sns.regplot(y_test,predictions)"
   ]
  },
  {
   "cell_type": "markdown",
   "id": "0568685c-099f-491d-a138-bc5d22b51e6d",
   "metadata": {},
   "source": [
    "Other types of regularization. Normally with linear regression, we want to reduce the prediction against the expected. But sometimes, the wrong coefficients get selected so we use regularization to reduce highly influential but wrongly selected coefficients. Two types of regularization will be used in this example: lasso and ridge. Lasso is a type of regularization where a penalty that's equal to absolute value of magnitude of coefficient (sometimes leads to feature reduction). Ridge regularization is where the penalty equals the square of the magnitude of the coefficient (this takes in the alpha values to determine penalty size)."
   ]
  },
  {
   "cell_type": "markdown",
   "id": "e4ceb7ca-94da-48e2-b7ae-dad8309cbd58",
   "metadata": {},
   "source": [
    "## 3. Lasso"
   ]
  },
  {
   "cell_type": "code",
   "execution_count": 146,
   "id": "03232107-badb-4373-9a1f-036c60ab9c96",
   "metadata": {},
   "outputs": [],
   "source": [
    "from sklearn.linear_model import Ridge\n",
    "from sklearn.linear_model import Lasso\n",
    "\n",
    "ls = Lasso()\n",
    "ls.fit(X_train, y_train)\n",
    "y_pred = ls.predict(X_test)"
   ]
  },
  {
   "cell_type": "code",
   "execution_count": 155,
   "id": "3d17548a-699b-4e73-8a4a-bdd3e6fec874",
   "metadata": {},
   "outputs": [
    {
     "name": "stdout",
     "output_type": "stream",
     "text": [
      "0.8199832747015308\n",
      "MSE FOR LASSO: 35.37148635389621\n"
     ]
    }
   ],
   "source": [
    "print(ls.score(X_test, y_test))\n",
    "print(mean_squared_error(y_test, y_pred))"
   ]
  },
  {
   "cell_type": "markdown",
   "id": "d695ab38-5005-4905-8e49-1e16c96622f7",
   "metadata": {},
   "source": [
    "## 4. Ridge"
   ]
  },
  {
   "cell_type": "code",
   "execution_count": 164,
   "id": "61649943-ddde-478f-8815-e8dafad38d25",
   "metadata": {},
   "outputs": [],
   "source": [
    "ridge = Ridge()\n",
    "ridge.fit(X_train, y_train)\n",
    "y_pred = ridge.predict(X_test)"
   ]
  },
  {
   "cell_type": "code",
   "execution_count": 165,
   "id": "97bcf930-cbdc-4f2b-9757-f62588fc579b",
   "metadata": {},
   "outputs": [
    {
     "name": "stdout",
     "output_type": "stream",
     "text": [
      "0.8546856602576229\n",
      "28.552814615979678\n"
     ]
    }
   ],
   "source": [
    "print(ridge.score(X_test, y_test))\n",
    "print(mean_squared_error(y_test, y_pred))"
   ]
  },
  {
   "cell_type": "markdown",
   "id": "38b90123-5448-42d2-be46-7452ae03ae7c",
   "metadata": {},
   "source": [
    "## Conclusion"
   ]
  },
  {
   "cell_type": "markdown",
   "id": "7dcfcaab-7f6d-4f17-a6b1-f93eee0c2397",
   "metadata": {},
   "source": [
    "This dataset was fictional and this presented a good chance to explore the various socioeconomic, sex, race, and other factors that could influence students' test scores (math, reading, and writing). As a general pattern, the education level of the parents and students' participation in prep classes affected math, writing, and reading scores. The higher the parents' education level and the more students took prep classes, the higher their scores. This makes sense as if parents are well educated, there is more of an emphasis in education and this value is passed throughout the generation. The participation in prep classes increasing scores also make sense as practice and repetition makes perfect. The more people dedicate time on practice, the better they get via 10,000 hours rule, highlighting the importance of good habits and time management. The ability for parents to send their children to prep classes subtly highlights the socioeconomic status as well as parents with additional flexible income to spend can afford such luxuries. \n",
    "Next step was seeing if some features could predict the students' math scores. All the features were used as features for predictions where the categorical columns were one-hot encoded into numerics to feed into the model. Four different types of models were used: random forest, linear regression, lasso, and ridge. The linear regression and ridge had highest accuracy score of around 0.85. The other models came close to 0.80. For linear regressions, the gender being Male, race group E, and participation in test prep had highest impact. The gender playing pivotal part in predicting math test score was a bit disheartening as there have been evidence repeatedly that there is not a significant difference in intelligence between both genders. This suggests that we should do a better job at reducing the gender discrimination at younger age. There has been studies where when females are made aware of their gender before a test, they tend to score significantly lower than if they were not aware, implying that this subtle awareness cna have significant impact on behavior and anxiety to reduce score. \n",
    "Overall this was an interesting analysis and while there are many models, linear regression continues to be a powerful model. There are other, more mysterious models like blackbox but these remain unexplainable and simple is a good way to go for building models when the relationship is linear."
   ]
  }
 ],
 "metadata": {
  "kernelspec": {
   "display_name": "Python 3 (ipykernel)",
   "language": "python",
   "name": "python3"
  },
  "language_info": {
   "codemirror_mode": {
    "name": "ipython",
    "version": 3
   },
   "file_extension": ".py",
   "mimetype": "text/x-python",
   "name": "python",
   "nbconvert_exporter": "python",
   "pygments_lexer": "ipython3",
   "version": "3.8.10"
  }
 },
 "nbformat": 4,
 "nbformat_minor": 5
}
